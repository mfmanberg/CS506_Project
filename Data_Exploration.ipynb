{
 "cells": [
  {
   "cell_type": "code",
   "execution_count": 25,
   "id": "5d15f185",
   "metadata": {},
   "outputs": [],
   "source": [
    "import pandas as pd\n",
    "import numpy as np"
   ]
  },
  {
   "cell_type": "code",
   "execution_count": 26,
   "id": "18f76518",
   "metadata": {},
   "outputs": [],
   "source": [
    "df = pd.read_csv(\"ActualData/20250919pal.csv\")"
   ]
  },
  {
   "cell_type": "code",
   "execution_count": 27,
   "id": "92a61d69",
   "metadata": {},
   "outputs": [
    {
     "data": {
      "text/html": [
       "<div>\n",
       "<style scoped>\n",
       "    .dataframe tbody tr th:only-of-type {\n",
       "        vertical-align: middle;\n",
       "    }\n",
       "\n",
       "    .dataframe tbody tr th {\n",
       "        vertical-align: top;\n",
       "    }\n",
       "\n",
       "    .dataframe thead th {\n",
       "        text-align: right;\n",
       "    }\n",
       "</style>\n",
       "<table border=\"1\" class=\"dataframe\">\n",
       "  <thead>\n",
       "    <tr style=\"text-align: right;\">\n",
       "      <th></th>\n",
       "      <th>Time Stamp</th>\n",
       "      <th>Time Zone</th>\n",
       "      <th>Name</th>\n",
       "      <th>PTID</th>\n",
       "      <th>Load</th>\n",
       "    </tr>\n",
       "  </thead>\n",
       "  <tbody>\n",
       "    <tr>\n",
       "      <th>0</th>\n",
       "      <td>09/19/2025 00:00:00</td>\n",
       "      <td>EDT</td>\n",
       "      <td>CAPITL</td>\n",
       "      <td>61757</td>\n",
       "      <td>1255.8394</td>\n",
       "    </tr>\n",
       "    <tr>\n",
       "      <th>1</th>\n",
       "      <td>09/19/2025 00:00:00</td>\n",
       "      <td>EDT</td>\n",
       "      <td>CENTRL</td>\n",
       "      <td>61754</td>\n",
       "      <td>1432.6079</td>\n",
       "    </tr>\n",
       "    <tr>\n",
       "      <th>2</th>\n",
       "      <td>09/19/2025 00:00:00</td>\n",
       "      <td>EDT</td>\n",
       "      <td>DUNWOD</td>\n",
       "      <td>61760</td>\n",
       "      <td>617.0068</td>\n",
       "    </tr>\n",
       "    <tr>\n",
       "      <th>3</th>\n",
       "      <td>09/19/2025 00:00:00</td>\n",
       "      <td>EDT</td>\n",
       "      <td>GENESE</td>\n",
       "      <td>61753</td>\n",
       "      <td>1019.8070</td>\n",
       "    </tr>\n",
       "    <tr>\n",
       "      <th>4</th>\n",
       "      <td>09/19/2025 00:00:00</td>\n",
       "      <td>EDT</td>\n",
       "      <td>HUD VL</td>\n",
       "      <td>61758</td>\n",
       "      <td>989.9001</td>\n",
       "    </tr>\n",
       "    <tr>\n",
       "      <th>...</th>\n",
       "      <td>...</td>\n",
       "      <td>...</td>\n",
       "      <td>...</td>\n",
       "      <td>...</td>\n",
       "      <td>...</td>\n",
       "    </tr>\n",
       "    <tr>\n",
       "      <th>3273</th>\n",
       "      <td>09/19/2025 23:55:00</td>\n",
       "      <td>EDT</td>\n",
       "      <td>MHK VL</td>\n",
       "      <td>61756</td>\n",
       "      <td>664.6045</td>\n",
       "    </tr>\n",
       "    <tr>\n",
       "      <th>3274</th>\n",
       "      <td>09/19/2025 23:55:00</td>\n",
       "      <td>EDT</td>\n",
       "      <td>MILLWD</td>\n",
       "      <td>61759</td>\n",
       "      <td>227.1166</td>\n",
       "    </tr>\n",
       "    <tr>\n",
       "      <th>3275</th>\n",
       "      <td>09/19/2025 23:55:00</td>\n",
       "      <td>EDT</td>\n",
       "      <td>N.Y.C.</td>\n",
       "      <td>61761</td>\n",
       "      <td>5534.1924</td>\n",
       "    </tr>\n",
       "    <tr>\n",
       "      <th>3276</th>\n",
       "      <td>09/19/2025 23:55:00</td>\n",
       "      <td>EDT</td>\n",
       "      <td>NORTH</td>\n",
       "      <td>61755</td>\n",
       "      <td>491.6335</td>\n",
       "    </tr>\n",
       "    <tr>\n",
       "      <th>3277</th>\n",
       "      <td>09/19/2025 23:55:00</td>\n",
       "      <td>EDT</td>\n",
       "      <td>WEST</td>\n",
       "      <td>61752</td>\n",
       "      <td>1408.9438</td>\n",
       "    </tr>\n",
       "  </tbody>\n",
       "</table>\n",
       "<p>3278 rows × 5 columns</p>\n",
       "</div>"
      ],
      "text/plain": [
       "               Time Stamp Time Zone    Name   PTID       Load\n",
       "0     09/19/2025 00:00:00       EDT  CAPITL  61757  1255.8394\n",
       "1     09/19/2025 00:00:00       EDT  CENTRL  61754  1432.6079\n",
       "2     09/19/2025 00:00:00       EDT  DUNWOD  61760   617.0068\n",
       "3     09/19/2025 00:00:00       EDT  GENESE  61753  1019.8070\n",
       "4     09/19/2025 00:00:00       EDT  HUD VL  61758   989.9001\n",
       "...                   ...       ...     ...    ...        ...\n",
       "3273  09/19/2025 23:55:00       EDT  MHK VL  61756   664.6045\n",
       "3274  09/19/2025 23:55:00       EDT  MILLWD  61759   227.1166\n",
       "3275  09/19/2025 23:55:00       EDT  N.Y.C.  61761  5534.1924\n",
       "3276  09/19/2025 23:55:00       EDT   NORTH  61755   491.6335\n",
       "3277  09/19/2025 23:55:00       EDT    WEST  61752  1408.9438\n",
       "\n",
       "[3278 rows x 5 columns]"
      ]
     },
     "execution_count": 27,
     "metadata": {},
     "output_type": "execute_result"
    }
   ],
   "source": [
    "df"
   ]
  },
  {
   "cell_type": "code",
   "execution_count": 28,
   "id": "54c958a2",
   "metadata": {},
   "outputs": [],
   "source": [
    "regions = df[\"Name\"].unique()"
   ]
  },
  {
   "cell_type": "code",
   "execution_count": 29,
   "id": "e093c8d9",
   "metadata": {},
   "outputs": [],
   "source": [
    "timestamps = df[\"Time Stamp\"]"
   ]
  },
  {
   "cell_type": "code",
   "execution_count": 30,
   "id": "bd929f95",
   "metadata": {},
   "outputs": [],
   "source": [
    "df_total_load = pd.DataFrame()"
   ]
  },
  {
   "cell_type": "code",
   "execution_count": 31,
   "id": "40eb8b83",
   "metadata": {},
   "outputs": [],
   "source": [
    "df_total_load[\"Time\"] = timestamps\n",
    "df_total_load[\"Load\"] = np.zeros(len(timestamps))"
   ]
  },
  {
   "cell_type": "code",
   "execution_count": 33,
   "id": "fc2f0881",
   "metadata": {},
   "outputs": [
    {
     "name": "stderr",
     "output_type": "stream",
     "text": [
      "C:\\Users\\sarah\\AppData\\Local\\Temp\\ipykernel_13548\\2011114025.py:2: SettingWithCopyWarning: \n",
      "A value is trying to be set on a copy of a slice from a DataFrame.\n",
      "Try using .loc[row_indexer,col_indexer] = value instead\n",
      "\n",
      "See the caveats in the documentation: https://pandas.pydata.org/pandas-docs/stable/user_guide/indexing.html#returning-a-view-versus-a-copy\n",
      "  df_total_load[df_total_load[\"Time\"] == time][\"Load\"] = np.sum(df[df[\"Time Stamp\"] == time][\"Load\"])\n"
     ]
    }
   ],
   "source": [
    "for time in timestamps:\n",
    "    df_total_load[df_total_load[\"Time\"] == time][\"Load\"] = np.sum(df[df[\"Time Stamp\"] == time][\"Load\"]) "
   ]
  },
  {
   "cell_type": "code",
   "execution_count": null,
   "id": "c0682b62",
   "metadata": {},
   "outputs": [],
   "source": []
  },
  {
   "cell_type": "code",
   "execution_count": 34,
   "id": "31aa5d0a",
   "metadata": {},
   "outputs": [
    {
     "data": {
      "text/html": [
       "<div>\n",
       "<style scoped>\n",
       "    .dataframe tbody tr th:only-of-type {\n",
       "        vertical-align: middle;\n",
       "    }\n",
       "\n",
       "    .dataframe tbody tr th {\n",
       "        vertical-align: top;\n",
       "    }\n",
       "\n",
       "    .dataframe thead th {\n",
       "        text-align: right;\n",
       "    }\n",
       "</style>\n",
       "<table border=\"1\" class=\"dataframe\">\n",
       "  <thead>\n",
       "    <tr style=\"text-align: right;\">\n",
       "      <th></th>\n",
       "      <th>Time</th>\n",
       "      <th>Load</th>\n",
       "    </tr>\n",
       "  </thead>\n",
       "  <tbody>\n",
       "    <tr>\n",
       "      <th>0</th>\n",
       "      <td>09/19/2025 00:00:00</td>\n",
       "      <td>0.0</td>\n",
       "    </tr>\n",
       "    <tr>\n",
       "      <th>1</th>\n",
       "      <td>09/19/2025 00:00:00</td>\n",
       "      <td>0.0</td>\n",
       "    </tr>\n",
       "    <tr>\n",
       "      <th>2</th>\n",
       "      <td>09/19/2025 00:00:00</td>\n",
       "      <td>0.0</td>\n",
       "    </tr>\n",
       "    <tr>\n",
       "      <th>3</th>\n",
       "      <td>09/19/2025 00:00:00</td>\n",
       "      <td>0.0</td>\n",
       "    </tr>\n",
       "    <tr>\n",
       "      <th>4</th>\n",
       "      <td>09/19/2025 00:00:00</td>\n",
       "      <td>0.0</td>\n",
       "    </tr>\n",
       "    <tr>\n",
       "      <th>...</th>\n",
       "      <td>...</td>\n",
       "      <td>...</td>\n",
       "    </tr>\n",
       "    <tr>\n",
       "      <th>3273</th>\n",
       "      <td>09/19/2025 23:55:00</td>\n",
       "      <td>0.0</td>\n",
       "    </tr>\n",
       "    <tr>\n",
       "      <th>3274</th>\n",
       "      <td>09/19/2025 23:55:00</td>\n",
       "      <td>0.0</td>\n",
       "    </tr>\n",
       "    <tr>\n",
       "      <th>3275</th>\n",
       "      <td>09/19/2025 23:55:00</td>\n",
       "      <td>0.0</td>\n",
       "    </tr>\n",
       "    <tr>\n",
       "      <th>3276</th>\n",
       "      <td>09/19/2025 23:55:00</td>\n",
       "      <td>0.0</td>\n",
       "    </tr>\n",
       "    <tr>\n",
       "      <th>3277</th>\n",
       "      <td>09/19/2025 23:55:00</td>\n",
       "      <td>0.0</td>\n",
       "    </tr>\n",
       "  </tbody>\n",
       "</table>\n",
       "<p>3278 rows × 2 columns</p>\n",
       "</div>"
      ],
      "text/plain": [
       "                     Time  Load\n",
       "0     09/19/2025 00:00:00   0.0\n",
       "1     09/19/2025 00:00:00   0.0\n",
       "2     09/19/2025 00:00:00   0.0\n",
       "3     09/19/2025 00:00:00   0.0\n",
       "4     09/19/2025 00:00:00   0.0\n",
       "...                   ...   ...\n",
       "3273  09/19/2025 23:55:00   0.0\n",
       "3274  09/19/2025 23:55:00   0.0\n",
       "3275  09/19/2025 23:55:00   0.0\n",
       "3276  09/19/2025 23:55:00   0.0\n",
       "3277  09/19/2025 23:55:00   0.0\n",
       "\n",
       "[3278 rows x 2 columns]"
      ]
     },
     "execution_count": 34,
     "metadata": {},
     "output_type": "execute_result"
    }
   ],
   "source": [
    "df_total_load"
   ]
  },
  {
   "cell_type": "code",
   "execution_count": null,
   "id": "3621b8ba",
   "metadata": {},
   "outputs": [
    {
     "data": {
      "text/plain": [
       "array(['CAPITL', 'CENTRL', 'DUNWOD', 'GENESE', 'HUD VL', 'LONGIL',\n",
       "       'MHK VL', 'MILLWD', 'N.Y.C.', 'NORTH', 'WEST'], dtype=object)"
      ]
     },
     "execution_count": 7,
     "metadata": {},
     "output_type": "execute_result"
    }
   ],
   "source": [
    "for region in regions:\n",
    "    "
   ]
  },
  {
   "cell_type": "code",
   "execution_count": null,
   "id": "dbc2c25d",
   "metadata": {},
   "outputs": [],
   "source": []
  }
 ],
 "metadata": {
  "kernelspec": {
   "display_name": "base",
   "language": "python",
   "name": "python3"
  },
  "language_info": {
   "codemirror_mode": {
    "name": "ipython",
    "version": 3
   },
   "file_extension": ".py",
   "mimetype": "text/x-python",
   "name": "python",
   "nbconvert_exporter": "python",
   "pygments_lexer": "ipython3",
   "version": "3.13.5"
  }
 },
 "nbformat": 4,
 "nbformat_minor": 5
}
